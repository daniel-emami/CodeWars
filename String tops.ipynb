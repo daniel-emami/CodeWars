{
 "cells": [
  {
   "cell_type": "code",
   "execution_count": null,
   "metadata": {},
   "outputs": [],
   "source": [
    "def tops(msg):\n",
    "    i = 0\n",
    "    peaks = []\n",
    "\n",
    "    for idx in range(len(msg)):\n",
    "        i += idx\n",
    "        if i > len(msg):\n",
    "            break\n",
    "        if idx % 2 == 1:\n",
    "            peaks.append(msg[i])\n",
    "\n",
    "    return ''.join(peaks[::-1])"
   ]
  }
 ],
 "metadata": {
  "kernelspec": {
   "display_name": "withpip",
   "language": "python",
   "name": "python3"
  },
  "language_info": {
   "codemirror_mode": {
    "name": "ipython",
    "version": 3
   },
   "file_extension": ".py",
   "mimetype": "text/x-python",
   "name": "python",
   "nbconvert_exporter": "python",
   "pygments_lexer": "ipython3",
   "version": "3.9.15"
  }
 },
 "nbformat": 4,
 "nbformat_minor": 2
}
