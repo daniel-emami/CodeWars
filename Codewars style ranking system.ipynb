{
 "cells": [
  {
   "cell_type": "code",
   "execution_count": 2,
   "metadata": {},
   "outputs": [],
   "source": [
    "rank_list = [-8, -7, -6, -5, -4, -3, -2, -1, 1, 2, 3, 4, 5, 6, 7, 8]\n",
    "\n",
    "class User:\n",
    "    def __init__(self):\n",
    "        self.rank = -8\n",
    "        self.progress = 0\n",
    "\n",
    "    def ranking(self):\n",
    "        return self.rank\n",
    "    \n",
    "    def progression(self):\n",
    "        return self.progress\n",
    "    \n",
    "    def inc_progress(self, completed_lvl):\n",
    "        lvl_diff = rank_list.index(completed_lvl) - rank_list.index(self.rank)\n",
    "        if self.rank == 8:\n",
    "            return\n",
    "        if lvl_diff == 0: \n",
    "            self.progress += 3\n",
    "        elif lvl_diff == -1:\n",
    "            self.progress += 1\n",
    "        elif lvl_diff < -1:\n",
    "            pass\n",
    "        else:\n",
    "            self.progress += 10 * lvl_diff * lvl_diff\n",
    "\n",
    "        rank_inc = self.progress // 100\n",
    "\n",
    "        if rank_inc > 0:\n",
    "            self.progress = self.progress % 100\n",
    "            if rank_list[self.rank] + rank_inc > len(rank_list) - 1:\n",
    "                self.progress = 0\n",
    "                self.rank = rank_list[-1]\n",
    "            else:\n",
    "                self.rank = rank_list[rank_list.index(self.rank) + rank_inc]\n",
    "                if self.rank == 8:\n",
    "                    self.progress = 0\n",
    "                rank_inc = 0\n"
   ]
  }
 ],
 "metadata": {
  "kernelspec": {
   "display_name": "withpip",
   "language": "python",
   "name": "python3"
  },
  "language_info": {
   "codemirror_mode": {
    "name": "ipython",
    "version": 3
   },
   "file_extension": ".py",
   "mimetype": "text/x-python",
   "name": "python",
   "nbconvert_exporter": "python",
   "pygments_lexer": "ipython3",
   "version": "3.9.15"
  }
 },
 "nbformat": 4,
 "nbformat_minor": 2
}
