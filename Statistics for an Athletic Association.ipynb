{
 "cells": [
  {
   "cell_type": "code",
   "execution_count": 10,
   "metadata": {},
   "outputs": [],
   "source": [
    "from datetime import datetime, timedelta\n",
    "from statistics import median, mean\n",
    "\n",
    "\n",
    "def stat(times):\n",
    "    # Preprocessing\n",
    "    times = times.split(', ')\n",
    "    times_timestamp = list(map(lambda x: datetime.strptime(x, '%H|%M|%S').timestamp(), times))\n",
    "    times_time = list(map(lambda x: datetime.strptime(x, '%H|%M|%S').time(), times))\n",
    "\n",
    "    # Average time\n",
    "    average = datetime.strftime(datetime.fromtimestamp(mean(times_timestamp)),\"%H|%M|%S\")\n",
    "\n",
    "    # Median time\n",
    "    medi = datetime.strftime(datetime.fromtimestamp(median(times_timestamp)),\"%H|%M|%S\")\n",
    "\n",
    "    # Range\n",
    "    times = list(map(lambda x: timedelta(hours = x.hour, minutes = x.minute, seconds = x.second), times_time))\n",
    "    range = str(datetime.strptime(str(max(times)-min(times)), '%H:%M:%S').time()).replace(':', '|')\n",
    "    return f'Range: {range} Average: {average} Median: {medi}'"
   ]
  }
 ],
 "metadata": {
  "kernelspec": {
   "display_name": "withpip",
   "language": "python",
   "name": "python3"
  },
  "language_info": {
   "codemirror_mode": {
    "name": "ipython",
    "version": 3
   },
   "file_extension": ".py",
   "mimetype": "text/x-python",
   "name": "python",
   "nbconvert_exporter": "python",
   "pygments_lexer": "ipython3",
   "version": "3.9.15"
  },
  "orig_nbformat": 4
 },
 "nbformat": 4,
 "nbformat_minor": 2
}
