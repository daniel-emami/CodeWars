{
 "cells": [
  {
   "cell_type": "code",
   "execution_count": 1,
   "metadata": {},
   "outputs": [],
   "source": [
    "from preloaded import MORSE_CODE\n",
    "\n",
    "def decodeMorse(x):\n",
    "    t = x.strip().split(' ')\n",
    "\n",
    "    for idx, i in enumerate(t):\n",
    "        if i == '':\n",
    "            t[idx] = ' '\n",
    "\n",
    "    f = [i for i in t if i != '']\n",
    "\n",
    "    word = ''\n",
    "\n",
    "    for letter in f:\n",
    "        try:\n",
    "            word += MORSE_CODE[letter]\n",
    "        except:\n",
    "            if word[-1] != ' ':\n",
    "                word += ' '\n",
    "    return word"
   ]
  }
 ],
 "metadata": {
  "kernelspec": {
   "display_name": "withpip",
   "language": "python",
   "name": "python3"
  },
  "language_info": {
   "codemirror_mode": {
    "name": "ipython",
    "version": 3
   },
   "file_extension": ".py",
   "mimetype": "text/x-python",
   "name": "python",
   "nbconvert_exporter": "python",
   "pygments_lexer": "ipython3",
   "version": "3.9.15"
  },
  "orig_nbformat": 4
 },
 "nbformat": 4,
 "nbformat_minor": 2
}
