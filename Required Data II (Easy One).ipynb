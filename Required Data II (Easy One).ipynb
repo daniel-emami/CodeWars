{
  "nbformat": 4,
  "nbformat_minor": 0,
  "metadata": {
    "colab": {
      "provenance": []
    },
    "kernelspec": {
      "name": "python3",
      "display_name": "Python 3"
    },
    "language_info": {
      "name": "python"
    }
  },
  "cells": [
    {
      "cell_type": "code",
      "source": [
        "def given_nth_value(arr, k, str_):\n",
        "  # Initial checks\n",
        "  if isinstance(k, str) or k < 0:\n",
        "    return \"Incorrect value for k\"\n",
        "  if str_.lower() not in (\"min\", \"max\"):\n",
        "    return \"Valid entries: 'max' or 'min'\"\n",
        "  if all(isinstance(x, int) for x in arr) == False:\n",
        "    return \"Invalid entry list\"\n",
        "  if len(arr) == 0:\n",
        "    return \"No values in the array\"\n",
        "\n",
        "  arr = sorted(set(arr), reverse = True) # Removing duplicate integers and sorting for str_ == max\n",
        "\n",
        "  if len(arr) < k:\n",
        "    return \"No way\"\n",
        "  if str_.lower() == \"min\":\n",
        "    return sorted(arr)[k-1]\n",
        "  return arr[k-1]"
      ],
      "metadata": {
        "id": "ehb7YFLHlAIC"
      },
      "execution_count": 84,
      "outputs": []
    }
  ]
}