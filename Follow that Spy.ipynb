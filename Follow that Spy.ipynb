{
 "cells": [
  {
   "cell_type": "code",
   "execution_count": null,
   "metadata": {},
   "outputs": [],
   "source": [
    "def find_routes(x):\n",
    "    x_collapsed = [i for j in x for i in j]\n",
    "    start_stop = list(filter(lambda s : x_collapsed.count(s) == 1, x_collapsed))\n",
    "\n",
    "    # Finds starting and ending city by identyfing their index. Even index is always departing, and odd index is always arriving.\n",
    "    if x_collapsed.index(start_stop[0]) % 2 == 0:\n",
    "        start = start_stop[0]\n",
    "        stop = start_stop[1]\n",
    "    else:\n",
    "        start = start_stop[1]\n",
    "        stop = start_stop[0]\n",
    "    route = []\n",
    "\n",
    "    # Looping through the tuples to find the one where index 0 matches the index 1 in the tuple containing the start variable.\n",
    "    while start != stop:\n",
    "        for idx, country in enumerate(x_collapsed):\n",
    "            if country == start:\n",
    "                route.append(country)\n",
    "                start = x_collapsed[idx+1]\n",
    "                x_collapsed.pop(idx)\n",
    "    route.append(stop)\n",
    "    return ', '.join(route)"
   ]
  }
 ],
 "metadata": {
  "language_info": {
   "name": "python"
  }
 },
 "nbformat": 4,
 "nbformat_minor": 2
}
