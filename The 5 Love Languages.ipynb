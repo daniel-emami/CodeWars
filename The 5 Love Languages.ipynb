{
 "cells": [
  {
   "cell_type": "code",
   "execution_count": 2,
   "metadata": {},
   "outputs": [
    {
     "name": "stdout",
     "output_type": "stream",
     "text": [
      "0\n",
      "1\n"
     ]
    }
   ],
   "source": [
    "from preloaded import LOVE_LANGUAGES\n",
    "\n",
    "\n",
    "def love_language(partner, weeks):\n",
    "    love = {'words': 0, 'acts': 0, 'gifts': 0, 'time': 0, 'touch': 0}\n",
    "    for loves in love.keys():\n",
    "        for days in range(int((weeks*7)/5)):\n",
    "            if partner.response(loves) == 'positive':\n",
    "                love[loves] += 1\n",
    "\n",
    "    return(max(love, key = love.get))"
   ]
  }
 ],
 "metadata": {
  "kernelspec": {
   "display_name": "withpip",
   "language": "python",
   "name": "python3"
  },
  "language_info": {
   "codemirror_mode": {
    "name": "ipython",
    "version": 3
   },
   "file_extension": ".py",
   "mimetype": "text/x-python",
   "name": "python",
   "nbconvert_exporter": "python",
   "pygments_lexer": "ipython3",
   "version": "3.9.15"
  },
  "orig_nbformat": 4
 },
 "nbformat": 4,
 "nbformat_minor": 2
}
