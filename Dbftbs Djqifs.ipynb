{
 "cells": [
  {
   "cell_type": "code",
   "execution_count": 47,
   "metadata": {},
   "outputs": [
    {
     "name": "stdout",
     "output_type": "stream",
     "text": [
      "Pnrfne Pvcure!\n"
     ]
    }
   ],
   "source": [
    "def encryptor(key, message):\n",
    "    alphabet = list(\"abcdefghijklmnopqrstuvwxyz\")\n",
    "    alphabet_reverse = alphabet[::-1]\n",
    "    encrypted_string = \"\"\n",
    "    message_lower = message.lower() # the dictionary does not work with uppercases\n",
    "\n",
    "    for letter in message_lower:\n",
    "        if letter.isalpha() == True:\n",
    "            encrypted_string += alphabet[(key + alphabet.index(letter))%26]\n",
    "        if letter.isalpha() == False:\n",
    "            encrypted_string += letter\n",
    "\n",
    "    encrypted_list = list(encrypted_string)\n",
    "\n",
    "    for idx, letter in enumerate(message): # Looks at the uppercases in the original message and makes the encrypted letters uppercases by index\n",
    "        if letter.isupper() == True:\n",
    "            encrypted_list[idx] = encrypted_list[idx].upper()\n",
    "\n",
    "    return(\"\".join(encrypted_list))"
   ]
  }
 ],
 "metadata": {
  "kernelspec": {
   "display_name": "withpip",
   "language": "python",
   "name": "python3"
  },
  "language_info": {
   "codemirror_mode": {
    "name": "ipython",
    "version": 3
   },
   "file_extension": ".py",
   "mimetype": "text/x-python",
   "name": "python",
   "nbconvert_exporter": "python",
   "pygments_lexer": "ipython3",
   "version": "3.9.15"
  },
  "orig_nbformat": 4
 },
 "nbformat": 4,
 "nbformat_minor": 2
}
