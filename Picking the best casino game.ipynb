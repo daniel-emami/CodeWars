{
 "cells": [
  {
   "cell_type": "code",
   "execution_count": 1,
   "metadata": {},
   "outputs": [],
   "source": [
    "def mutiply_tuple(tuples):\n",
    "    result = 1\n",
    "    for element in tuples:\n",
    "        result *= element\n",
    "    return result\n",
    "\n",
    "def find_best_game(games):\n",
    "    game_outcomes = {}\n",
    "    \n",
    "    for game in games:\n",
    "        game_outcomes[game[0]] = []\n",
    "        for outcome in game[1]:\n",
    "            game_outcomes[game[0]].append(mutiply_tuple(outcome))\n",
    "        game_outcomes[game[0]] = sum(game_outcomes[game[0]])\n",
    "\n",
    "    return max(game_outcomes, key=game_outcomes.get)"
   ]
  }
 ],
 "metadata": {
  "kernelspec": {
   "display_name": "withpip",
   "language": "python",
   "name": "python3"
  },
  "language_info": {
   "codemirror_mode": {
    "name": "ipython",
    "version": 3
   },
   "file_extension": ".py",
   "mimetype": "text/x-python",
   "name": "python",
   "nbconvert_exporter": "python",
   "pygments_lexer": "ipython3",
   "version": "3.9.15"
  }
 },
 "nbformat": 4,
 "nbformat_minor": 2
}
