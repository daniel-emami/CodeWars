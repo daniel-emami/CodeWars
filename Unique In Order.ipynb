{
 "cells": [
  {
   "cell_type": "code",
   "execution_count": null,
   "metadata": {},
   "outputs": [],
   "source": [
    "def unique_in_order(sequence):\n",
    "    output_list = []\n",
    "\n",
    "    if len(sequence) == 0:\n",
    "        return []\n",
    "    elif isinstance(sequence, str):\n",
    "        sequence = [*sequence]\n",
    "        if len(output_list) == 0:\n",
    "            output_list.append(sequence[0])\n",
    "        [output_list.append(i) for i in sequence if i != output_list[-1]]\n",
    "    else:\n",
    "        if len(output_list) == 0:\n",
    "            output_list.append(sequence[0])\n",
    "        [output_list.append(i) for i in sequence if i != output_list[-1]]\n",
    "    return output_list"
   ]
  }
 ],
 "metadata": {
  "language_info": {
   "name": "python"
  }
 },
 "nbformat": 4,
 "nbformat_minor": 2
}
