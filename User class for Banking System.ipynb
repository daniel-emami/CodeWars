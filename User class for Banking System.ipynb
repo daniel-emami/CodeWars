{
 "cells": [
  {
   "cell_type": "code",
   "execution_count": null,
   "metadata": {},
   "outputs": [],
   "source": [
    "class User(object):\n",
    "    def __init__(self, name, balance, checking_account):\n",
    "        self.name = name\n",
    "        self.balance = balance\n",
    "        self.checking_account = checking_account\n",
    "    \n",
    "    def withdraw(self, amount):\n",
    "        if self.balance < amount:\n",
    "            raise ValueError()\n",
    "        else:\n",
    "            self.balance -= amount\n",
    "            return f'{self.name} has {self.balance}.'\n",
    "    \n",
    "    def check(self, name, transfer_sum):\n",
    "        if name.checking_account != True or name.balance < transfer_sum:\n",
    "            raise ValueError()\n",
    "        else:\n",
    "            self.balance += transfer_sum\n",
    "            name.balance -= transfer_sum\n",
    "            return f'{self.name} has {self.balance} and {name.name} has {name.balance}.'\n",
    "        \n",
    "    def add_cash(self, amount):\n",
    "        self.balance += amount\n",
    "        return f'{self.name} has {self.balance}.'"
   ]
  }
 ],
 "metadata": {
  "kernelspec": {
   "display_name": "withpip",
   "language": "python",
   "name": "python3"
  },
  "language_info": {
   "codemirror_mode": {
    "name": "ipython",
    "version": 3
   },
   "file_extension": ".py",
   "mimetype": "text/x-python",
   "name": "python",
   "nbconvert_exporter": "python",
   "pygments_lexer": "ipython3",
   "version": "3.9.15"
  }
 },
 "nbformat": 4,
 "nbformat_minor": 2
}
