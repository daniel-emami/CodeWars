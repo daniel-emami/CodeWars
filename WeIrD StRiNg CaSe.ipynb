{
 "cells": [
  {
   "cell_type": "code",
   "execution_count": 3,
   "metadata": {},
   "outputs": [
    {
     "name": "stdout",
     "output_type": "stream",
     "text": [
      "ThIs Is A TeSt\n"
     ]
    }
   ],
   "source": [
    "def to_weird_case(words):\n",
    "    y = ''\n",
    "    i = 0\n",
    "    char_var = ''\n",
    "    for char in words:\n",
    "        if char_var == ' ':\n",
    "            i = 0\n",
    "        if i % 2 == 0:\n",
    "            y += char.upper()\n",
    "        else:\n",
    "            if y[-1] == ' ':\n",
    "                y += char.upper()\n",
    "            else:\n",
    "                y += char.lower()\n",
    "        i += 1\n",
    "        char_var = char\n",
    "    return y"
   ]
  },
  {
   "cell_type": "code",
   "execution_count": 10,
   "metadata": {},
   "outputs": [
    {
     "name": "stdout",
     "output_type": "stream",
     "text": [
      "S\n"
     ]
    }
   ],
   "source": []
  }
 ],
 "metadata": {
  "kernelspec": {
   "display_name": "withpip",
   "language": "python",
   "name": "python3"
  },
  "language_info": {
   "codemirror_mode": {
    "name": "ipython",
    "version": 3
   },
   "file_extension": ".py",
   "mimetype": "text/x-python",
   "name": "python",
   "nbconvert_exporter": "python",
   "pygments_lexer": "ipython3",
   "version": "3.9.15"
  },
  "orig_nbformat": 4
 },
 "nbformat": 4,
 "nbformat_minor": 2
}
