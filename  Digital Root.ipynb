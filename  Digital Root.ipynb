{
 "cells": [
  {
   "cell_type": "code",
   "execution_count": null,
   "metadata": {},
   "outputs": [],
   "source": [
    "def digital_root(n):\n",
    "    sum_n = sum(list(map(int, str(n))))\n",
    "\n",
    "    while sum_n > 9:\n",
    "        sum_n = sum(list(map(int, str(sum_n))))\n",
    "\n",
    "    return (sum_n)"
   ]
  }
 ],
 "metadata": {
  "language_info": {
   "name": "python"
  }
 },
 "nbformat": 4,
 "nbformat_minor": 2
}
